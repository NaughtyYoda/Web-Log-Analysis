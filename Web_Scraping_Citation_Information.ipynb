{
  "nbformat": 4,
  "nbformat_minor": 0,
  "metadata": {
    "colab": {
      "name": "Web Scraping Citation Information",
      "provenance": [],
      "authorship_tag": "ABX9TyNwcEZB2zKcu4GRy+/b7nCX",
      "include_colab_link": true
    },
    "kernelspec": {
      "name": "python3",
      "display_name": "Python 3"
    },
    "language_info": {
      "name": "python"
    }
  },
  "cells": [
    {
      "cell_type": "markdown",
      "metadata": {
        "id": "view-in-github",
        "colab_type": "text"
      },
      "source": [
        "<a href=\"https://colab.research.google.com/github/NaughtyYoda/Web-Log-Analysis/blob/main/Web_Scraping_Citation_Information.ipynb\" target=\"_parent\"><img src=\"https://colab.research.google.com/assets/colab-badge.svg\" alt=\"Open In Colab\"/></a>"
      ]
    },
    {
      "cell_type": "markdown",
      "metadata": {
        "id": "OykKd8KX8wTF"
      },
      "source": [
        "# Import Libraries"
      ]
    },
    {
      "cell_type": "code",
      "metadata": {
        "id": "uwiZkfhm8Ohf"
      },
      "source": [
        "# dataframe manipulation\n",
        "import pandas as pd\n",
        "# linear algebra\n",
        "import numpy as np\n",
        "\n",
        "# data visualization\n",
        "import matplotlib.pyplot as plt\n",
        "%matplotlib inline\n",
        "import seaborn as sns\n",
        "\n",
        "# web crawling\n",
        "from bs4 import BeautifulSoup\n",
        "import requests"
      ],
      "execution_count": 1,
      "outputs": []
    },
    {
      "cell_type": "markdown",
      "metadata": {
        "id": "_LWTxKi5-BBE"
      },
      "source": [
        "# Get all professors from Deakin Staff list"
      ]
    },
    {
      "cell_type": "code",
      "metadata": {
        "id": "j183rVCz8p2W"
      },
      "source": [
        "# execute HTTP request\n",
        "url = 'https://www.deakin.edu.au/information-technology/staff-listing'\n",
        "req = requests.get(url)"
      ],
      "execution_count": 2,
      "outputs": []
    },
    {
      "cell_type": "code",
      "metadata": {
        "id": "FWNxSvKq9Zpa"
      },
      "source": [
        "# parse the HTML using Beautiful Soup\n",
        "soup = BeautifulSoup(req.text)"
      ],
      "execution_count": 3,
      "outputs": []
    },
    {
      "cell_type": "code",
      "metadata": {
        "colab": {
          "base_uri": "https://localhost:8080/"
        },
        "id": "ePew6OBj9bwJ",
        "outputId": "4ff49b15-7a65-4da1-a387-a66e51710d6b"
      },
      "source": [
        "# find all elements in HTML tables\n",
        "prof_html_list = soup.findAll('td')\n",
        "\n",
        "# first five elements\n",
        "prof_html_list[:5]"
      ],
      "execution_count": 4,
      "outputs": [
        {
          "output_type": "execute_result",
          "data": {
            "text/plain": [
              "[<td headers=\"table09355r1c1\"><a href=\"https://www.deakin.edu.au/about-deakin/people/lynn-batten\" target=\"_blank\">Emeritus Professor Lynn Batten</a></td>,\n",
              " <td headers=\"table09355r1c1\"><a href=\"https://www.deakin.edu.au/about-deakin/people/andrzej-goscinski\">Emeritus Professor Andrzej Goscinski</a></td>,\n",
              " <td headers=\"table09355r1c1\"><a href=\"https://www.deakin.edu.au/about-deakin/people/jemal-abawajy\">Professor Jemal Abawajy</a></td>,\n",
              " <td headers=\"table09355r1c1\"><a href=\"https://www.deakin.edu.au/about-deakin/people/maia-angelova-turkedjieva\">Professor Maia Angelova</a></td>,\n",
              " <td headers=\"table09355r1c1\"><a href=\"https://www.deakin.edu.au/about-deakin/people/gleb-beliakov\">Professor Gleb Beliakov</a></td>]"
            ]
          },
          "metadata": {
            "tags": []
          },
          "execution_count": 4
        }
      ]
    },
    {
      "cell_type": "code",
      "metadata": {
        "colab": {
          "base_uri": "https://localhost:8080/"
        },
        "id": "J3Mt1rk29hRW",
        "outputId": "e80a7811-fe30-4f36-9b6f-6599b04edc94"
      },
      "source": [
        "# extract names using text method\n",
        "print(prof_html_list[0])\n",
        "print(prof_html_list[0].text)"
      ],
      "execution_count": 5,
      "outputs": [
        {
          "output_type": "stream",
          "text": [
            "<td headers=\"table09355r1c1\"><a href=\"https://www.deakin.edu.au/about-deakin/people/lynn-batten\" target=\"_blank\">Emeritus Professor Lynn Batten</a></td>\n",
            "Emeritus Professor Lynn Batten\n"
          ],
          "name": "stdout"
        }
      ]
    },
    {
      "cell_type": "code",
      "metadata": {
        "id": "hjBaQ74Y9jw0"
      },
      "source": [
        "def parse_name(stringtext):\n",
        "    \"\"\"\n",
        "    This function parses the string with professors details \n",
        "    and splits it into name and title.\n",
        "    \"\"\"\n",
        "    return \" \".join(stringtext.split(\" \")[-2:]),\" \".join(stringtext.split(\" \")[:-2])"
      ],
      "execution_count": 6,
      "outputs": []
    },
    {
      "cell_type": "code",
      "metadata": {
        "colab": {
          "base_uri": "https://localhost:8080/",
          "height": 210
        },
        "id": "DB2T6YHU9nNV",
        "outputId": "c3272e2c-c7af-4b4f-cbc7-1ba1b894705c"
      },
      "source": [
        "# store professor information in dataframe\n",
        "prof_df = pd.DataFrame([prof.text for prof in prof_html_list if \"Professor\" in prof.text], \n",
        "                       columns=['fullname_title'])\n",
        "prof_df['Name'] = prof_df['fullname_title'].apply(lambda x: parse_name(x)[0])\n",
        "prof_df['Title'] = prof_df['fullname_title'].apply(lambda x: parse_name(x)[1])\n",
        "prof_df['University'] = ['Deakin Univerity' for i in range(len(prof_df))]\n",
        "prof_df.drop('fullname_title', axis=1, inplace=True)\n",
        "\n",
        "# first five rows \n",
        "prof_df.head()"
      ],
      "execution_count": 7,
      "outputs": [
        {
          "output_type": "execute_result",
          "data": {
            "text/html": [
              "<div>\n",
              "<style scoped>\n",
              "    .dataframe tbody tr th:only-of-type {\n",
              "        vertical-align: middle;\n",
              "    }\n",
              "\n",
              "    .dataframe tbody tr th {\n",
              "        vertical-align: top;\n",
              "    }\n",
              "\n",
              "    .dataframe thead th {\n",
              "        text-align: right;\n",
              "    }\n",
              "</style>\n",
              "<table border=\"1\" class=\"dataframe\">\n",
              "  <thead>\n",
              "    <tr style=\"text-align: right;\">\n",
              "      <th></th>\n",
              "      <th>Name</th>\n",
              "      <th>Title</th>\n",
              "      <th>University</th>\n",
              "    </tr>\n",
              "  </thead>\n",
              "  <tbody>\n",
              "    <tr>\n",
              "      <th>0</th>\n",
              "      <td>Lynn Batten</td>\n",
              "      <td>Emeritus Professor</td>\n",
              "      <td>Deakin Univerity</td>\n",
              "    </tr>\n",
              "    <tr>\n",
              "      <th>1</th>\n",
              "      <td>Andrzej Goscinski</td>\n",
              "      <td>Emeritus Professor</td>\n",
              "      <td>Deakin Univerity</td>\n",
              "    </tr>\n",
              "    <tr>\n",
              "      <th>2</th>\n",
              "      <td>Jemal Abawajy</td>\n",
              "      <td>Professor</td>\n",
              "      <td>Deakin Univerity</td>\n",
              "    </tr>\n",
              "    <tr>\n",
              "      <th>3</th>\n",
              "      <td>Maia Angelova</td>\n",
              "      <td>Professor</td>\n",
              "      <td>Deakin Univerity</td>\n",
              "    </tr>\n",
              "    <tr>\n",
              "      <th>4</th>\n",
              "      <td>Gleb Beliakov</td>\n",
              "      <td>Professor</td>\n",
              "      <td>Deakin Univerity</td>\n",
              "    </tr>\n",
              "  </tbody>\n",
              "</table>\n",
              "</div>"
            ],
            "text/plain": [
              "                Name               Title        University\n",
              "0        Lynn Batten  Emeritus Professor  Deakin Univerity\n",
              "1  Andrzej Goscinski  Emeritus Professor  Deakin Univerity\n",
              "2      Jemal Abawajy           Professor  Deakin Univerity\n",
              "3      Maia Angelova           Professor  Deakin Univerity\n",
              "4      Gleb Beliakov           Professor  Deakin Univerity"
            ]
          },
          "metadata": {
            "tags": []
          },
          "execution_count": 7
        }
      ]
    },
    {
      "cell_type": "markdown",
      "metadata": {
        "id": "AnZ3KHOB-MXH"
      },
      "source": [
        "# Crawl Professors citation information from Google scholar"
      ]
    },
    {
      "cell_type": "code",
      "metadata": {
        "id": "12CAd0RQ93MU"
      },
      "source": [
        "citation_all = []\n",
        "citation_since2016 = []\n",
        "h_index_all = []\n",
        "h_index_since2016 = []\n",
        "i10_index_all = []\n",
        "i10_index_since2016 = []\n",
        "for i, name in enumerate(prof_df['Name']):\n",
        "    first = name.split()[0]\n",
        "    last = name.split()[1]\n",
        "    search_url = f\"\"\"\n",
        "    https://scholar.google.com/citations?hl=en&view_op=search_authors&mauthors={first}+{last}+Deakin+Univeristy\n",
        "    \"\"\"\n",
        "    gsc_page = requests.get(search_url)\n",
        "    soup1 = BeautifulSoup(gsc_page.text, 'html.parser')\n",
        "    try:\n",
        "        # search for google scholar profile\n",
        "        url_suffix = soup1.find('div', {'class': 'gs_ai_t'}).find('a')['href']\n",
        "    except:\n",
        "        # no google scholar profile\n",
        "        citation_all.append(np.nan)\n",
        "        citation_since2016.append(np.nan)\n",
        "        h_index_all.append(np.nan)\n",
        "        h_index_since2016.append(np.nan)\n",
        "        i10_index_all.append(np.nan)\n",
        "        i10_index_since2016.append(np.nan)\n",
        "        continue\n",
        "        \n",
        "    # open google scholar profile and get citaion information\n",
        "    gsc_profile_page = requests.get(f\"https://scholar.google.com/{url_suffix}\")\n",
        "    soup2 = BeautifulSoup(gsc_profile_page.text, 'html.parser')\n",
        "    citations_info = soup2.findAll('td', {'class': 'gsc_rsb_std'})\n",
        "    if citations_info == []:\n",
        "        # if there is no citation information\n",
        "        citation_all.append(np.nan)\n",
        "        citation_since2016.append(np.nan)\n",
        "        h_index_all.append(np.nan)\n",
        "        h_index_since2016.append(np.nan)\n",
        "        i10_index_all.append(np.nan)\n",
        "        i10_index_since2016.append(np.nan)\n",
        "    else:\n",
        "        citation_all.append(int(citations_info[0].text))\n",
        "        citation_since2016.append(int(citations_info[1].text))\n",
        "        h_index_all.append(int(citations_info[2].text))\n",
        "        h_index_since2016.append(int(citations_info[3].text))\n",
        "        i10_index_all.append(int(citations_info[4].text))\n",
        "        i10_index_since2016.append(int(citations_info[5].text))"
      ],
      "execution_count": 8,
      "outputs": []
    },
    {
      "cell_type": "code",
      "metadata": {
        "id": "gePQZ4ZL-VOO"
      },
      "source": [
        "# create data frame\n",
        "data_dict = {}\n",
        "data_dict['name'] = prof_df['Name']\n",
        "data_dict['title'] = prof_df['Title']\n",
        "data_dict['citation_all'] = citation_all\n",
        "data_dict['citation_since2016'] = citation_since2016\n",
        "data_dict['h_index_all'] = h_index_all\n",
        "data_dict['h_index_since2016'] = h_index_since2016\n",
        "data_dict['i10_index_all'] = i10_index_all\n",
        "data_dict['i10_index_since2016'] = i10_index_since2016\n",
        "citation_df = pd.DataFrame(data_dict)\n",
        "\n",
        "# remove missing values\n",
        "citation_df.dropna(axis=0, inplace=True)\n",
        "\n",
        "# fix data type\n",
        "for i in np.arange(2, 8):\n",
        "  citation_df.iloc[:, i] = citation_df.iloc[:, i].astype('int')"
      ],
      "execution_count": 9,
      "outputs": []
    },
    {
      "cell_type": "code",
      "metadata": {
        "colab": {
          "base_uri": "https://localhost:8080/",
          "height": 754
        },
        "id": "G121GyYoXuWM",
        "outputId": "a908ac3d-ef89-4936-9389-ce844d2d6070"
      },
      "source": [
        "citation_df"
      ],
      "execution_count": 10,
      "outputs": [
        {
          "output_type": "execute_result",
          "data": {
            "text/html": [
              "<div>\n",
              "<style scoped>\n",
              "    .dataframe tbody tr th:only-of-type {\n",
              "        vertical-align: middle;\n",
              "    }\n",
              "\n",
              "    .dataframe tbody tr th {\n",
              "        vertical-align: top;\n",
              "    }\n",
              "\n",
              "    .dataframe thead th {\n",
              "        text-align: right;\n",
              "    }\n",
              "</style>\n",
              "<table border=\"1\" class=\"dataframe\">\n",
              "  <thead>\n",
              "    <tr style=\"text-align: right;\">\n",
              "      <th></th>\n",
              "      <th>name</th>\n",
              "      <th>title</th>\n",
              "      <th>citation_all</th>\n",
              "      <th>citation_since2016</th>\n",
              "      <th>h_index_all</th>\n",
              "      <th>h_index_since2016</th>\n",
              "      <th>i10_index_all</th>\n",
              "      <th>i10_index_since2016</th>\n",
              "    </tr>\n",
              "  </thead>\n",
              "  <tbody>\n",
              "    <tr>\n",
              "      <th>0</th>\n",
              "      <td>Lynn Batten</td>\n",
              "      <td>Emeritus Professor</td>\n",
              "      <td>2590</td>\n",
              "      <td>1229</td>\n",
              "      <td>23</td>\n",
              "      <td>16</td>\n",
              "      <td>45</td>\n",
              "      <td>21</td>\n",
              "    </tr>\n",
              "    <tr>\n",
              "      <th>3</th>\n",
              "      <td>Maia Angelova</td>\n",
              "      <td>Professor</td>\n",
              "      <td>708</td>\n",
              "      <td>423</td>\n",
              "      <td>16</td>\n",
              "      <td>12</td>\n",
              "      <td>22</td>\n",
              "      <td>16</td>\n",
              "    </tr>\n",
              "    <tr>\n",
              "      <th>4</th>\n",
              "      <td>Gleb Beliakov</td>\n",
              "      <td>Professor</td>\n",
              "      <td>8267</td>\n",
              "      <td>4722</td>\n",
              "      <td>42</td>\n",
              "      <td>32</td>\n",
              "      <td>135</td>\n",
              "      <td>87</td>\n",
              "    </tr>\n",
              "    <tr>\n",
              "      <th>5</th>\n",
              "      <td>Terry Caelli</td>\n",
              "      <td>Professor</td>\n",
              "      <td>8939</td>\n",
              "      <td>1554</td>\n",
              "      <td>54</td>\n",
              "      <td>20</td>\n",
              "      <td>182</td>\n",
              "      <td>36</td>\n",
              "    </tr>\n",
              "    <tr>\n",
              "      <th>6</th>\n",
              "      <td>Jinho Choi</td>\n",
              "      <td>Professor</td>\n",
              "      <td>8100</td>\n",
              "      <td>5291</td>\n",
              "      <td>37</td>\n",
              "      <td>30</td>\n",
              "      <td>173</td>\n",
              "      <td>102</td>\n",
              "    </tr>\n",
              "    <tr>\n",
              "      <th>7</th>\n",
              "      <td>Chang-Tsun Li</td>\n",
              "      <td>Professor</td>\n",
              "      <td>4464</td>\n",
              "      <td>2456</td>\n",
              "      <td>34</td>\n",
              "      <td>22</td>\n",
              "      <td>106</td>\n",
              "      <td>66</td>\n",
              "    </tr>\n",
              "    <tr>\n",
              "      <th>9</th>\n",
              "      <td>Peter Eklund</td>\n",
              "      <td>Professor</td>\n",
              "      <td>4087</td>\n",
              "      <td>891</td>\n",
              "      <td>35</td>\n",
              "      <td>14</td>\n",
              "      <td>75</td>\n",
              "      <td>24</td>\n",
              "    </tr>\n",
              "    <tr>\n",
              "      <th>10</th>\n",
              "      <td>Seng Loke</td>\n",
              "      <td>Professor</td>\n",
              "      <td>7271</td>\n",
              "      <td>2978</td>\n",
              "      <td>38</td>\n",
              "      <td>21</td>\n",
              "      <td>129</td>\n",
              "      <td>52</td>\n",
              "    </tr>\n",
              "    <tr>\n",
              "      <th>11</th>\n",
              "      <td>Antonio Robles-Kelly</td>\n",
              "      <td>Professor</td>\n",
              "      <td>3741</td>\n",
              "      <td>1615</td>\n",
              "      <td>24</td>\n",
              "      <td>16</td>\n",
              "      <td>62</td>\n",
              "      <td>27</td>\n",
              "    </tr>\n",
              "    <tr>\n",
              "      <th>12</th>\n",
              "      <td>Jean-Guy Schneider</td>\n",
              "      <td>Professor</td>\n",
              "      <td>1844</td>\n",
              "      <td>673</td>\n",
              "      <td>24</td>\n",
              "      <td>16</td>\n",
              "      <td>48</td>\n",
              "      <td>21</td>\n",
              "    </tr>\n",
              "    <tr>\n",
              "      <th>13</th>\n",
              "      <td>Yong Xiang</td>\n",
              "      <td>Professor</td>\n",
              "      <td>6655</td>\n",
              "      <td>5308</td>\n",
              "      <td>41</td>\n",
              "      <td>37</td>\n",
              "      <td>124</td>\n",
              "      <td>100</td>\n",
              "    </tr>\n",
              "    <tr>\n",
              "      <th>14</th>\n",
              "      <td>John Yearwood</td>\n",
              "      <td>Professor</td>\n",
              "      <td>3915</td>\n",
              "      <td>2116</td>\n",
              "      <td>32</td>\n",
              "      <td>23</td>\n",
              "      <td>95</td>\n",
              "      <td>46</td>\n",
              "    </tr>\n",
              "    <tr>\n",
              "      <th>15</th>\n",
              "      <td>Arkady Zaslavsky</td>\n",
              "      <td>Professor</td>\n",
              "      <td>15212</td>\n",
              "      <td>8593</td>\n",
              "      <td>50</td>\n",
              "      <td>34</td>\n",
              "      <td>179</td>\n",
              "      <td>82</td>\n",
              "    </tr>\n",
              "    <tr>\n",
              "      <th>16</th>\n",
              "      <td>Mohamed Abdelrazek</td>\n",
              "      <td>Associate Professor</td>\n",
              "      <td>1975</td>\n",
              "      <td>1373</td>\n",
              "      <td>17</td>\n",
              "      <td>16</td>\n",
              "      <td>31</td>\n",
              "      <td>27</td>\n",
              "    </tr>\n",
              "    <tr>\n",
              "      <th>17</th>\n",
              "      <td>Andrew Cain</td>\n",
              "      <td>Associate Professor</td>\n",
              "      <td>313</td>\n",
              "      <td>216</td>\n",
              "      <td>11</td>\n",
              "      <td>10</td>\n",
              "      <td>13</td>\n",
              "      <td>10</td>\n",
              "    </tr>\n",
              "    <tr>\n",
              "      <th>18</th>\n",
              "      <td>Richard Dazeley</td>\n",
              "      <td>Associate Professor</td>\n",
              "      <td>1551</td>\n",
              "      <td>1028</td>\n",
              "      <td>17</td>\n",
              "      <td>13</td>\n",
              "      <td>25</td>\n",
              "      <td>15</td>\n",
              "    </tr>\n",
              "    <tr>\n",
              "      <th>19</th>\n",
              "      <td>Guangyan Huang</td>\n",
              "      <td>Associate Professor</td>\n",
              "      <td>1190</td>\n",
              "      <td>869</td>\n",
              "      <td>20</td>\n",
              "      <td>18</td>\n",
              "      <td>30</td>\n",
              "      <td>24</td>\n",
              "    </tr>\n",
              "    <tr>\n",
              "      <th>20</th>\n",
              "      <td>Gang Li</td>\n",
              "      <td>Associate Professor</td>\n",
              "      <td>4312</td>\n",
              "      <td>3019</td>\n",
              "      <td>28</td>\n",
              "      <td>25</td>\n",
              "      <td>93</td>\n",
              "      <td>68</td>\n",
              "    </tr>\n",
              "    <tr>\n",
              "      <th>21</th>\n",
              "      <td>Jianxin Li</td>\n",
              "      <td>Associate Professor</td>\n",
              "      <td>1583</td>\n",
              "      <td>1206</td>\n",
              "      <td>21</td>\n",
              "      <td>20</td>\n",
              "      <td>41</td>\n",
              "      <td>35</td>\n",
              "    </tr>\n",
              "    <tr>\n",
              "      <th>22</th>\n",
              "      <td>Xiao Liu</td>\n",
              "      <td>Associate Professor</td>\n",
              "      <td>3287</td>\n",
              "      <td>1814</td>\n",
              "      <td>26</td>\n",
              "      <td>20</td>\n",
              "      <td>56</td>\n",
              "      <td>46</td>\n",
              "    </tr>\n",
              "    <tr>\n",
              "      <th>24</th>\n",
              "      <td>Tim Wilkin</td>\n",
              "      <td>Associate Professor</td>\n",
              "      <td>409</td>\n",
              "      <td>332</td>\n",
              "      <td>11</td>\n",
              "      <td>10</td>\n",
              "      <td>12</td>\n",
              "      <td>11</td>\n",
              "    </tr>\n",
              "    <tr>\n",
              "      <th>50</th>\n",
              "      <td>Dimaz Wijaya</td>\n",
              "      <td>Adjunct Professor</td>\n",
              "      <td>186</td>\n",
              "      <td>186</td>\n",
              "      <td>8</td>\n",
              "      <td>8</td>\n",
              "      <td>6</td>\n",
              "      <td>6</td>\n",
              "    </tr>\n",
              "  </tbody>\n",
              "</table>\n",
              "</div>"
            ],
            "text/plain": [
              "                    name  ... i10_index_since2016\n",
              "0            Lynn Batten  ...                  21\n",
              "3          Maia Angelova  ...                  16\n",
              "4          Gleb Beliakov  ...                  87\n",
              "5           Terry Caelli  ...                  36\n",
              "6             Jinho Choi  ...                 102\n",
              "7          Chang-Tsun Li  ...                  66\n",
              "9           Peter Eklund  ...                  24\n",
              "10             Seng Loke  ...                  52\n",
              "11  Antonio Robles-Kelly  ...                  27\n",
              "12    Jean-Guy Schneider  ...                  21\n",
              "13            Yong Xiang  ...                 100\n",
              "14         John Yearwood  ...                  46\n",
              "15      Arkady Zaslavsky  ...                  82\n",
              "16    Mohamed Abdelrazek  ...                  27\n",
              "17           Andrew Cain  ...                  10\n",
              "18       Richard Dazeley  ...                  15\n",
              "19        Guangyan Huang  ...                  24\n",
              "20               Gang Li  ...                  68\n",
              "21            Jianxin Li  ...                  35\n",
              "22              Xiao Liu  ...                  46\n",
              "24            Tim Wilkin  ...                  11\n",
              "50          Dimaz Wijaya  ...                   6\n",
              "\n",
              "[22 rows x 8 columns]"
            ]
          },
          "metadata": {
            "tags": []
          },
          "execution_count": 10
        }
      ]
    }
  ]
}