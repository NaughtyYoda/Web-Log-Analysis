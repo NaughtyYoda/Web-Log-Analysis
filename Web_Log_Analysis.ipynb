{
  "nbformat": 4,
  "nbformat_minor": 0,
  "metadata": {
    "kernelspec": {
      "display_name": "Python 3",
      "language": "python",
      "name": "python3"
    },
    "language_info": {
      "codemirror_mode": {
        "name": "ipython",
        "version": 3
      },
      "file_extension": ".py",
      "mimetype": "text/x-python",
      "name": "python",
      "nbconvert_exporter": "python",
      "pygments_lexer": "ipython3",
      "version": "3.8.5"
    },
    "colab": {
      "name": "Web Log Analysis.ipynb",
      "provenance": [],
      "include_colab_link": true
    }
  },
  "cells": [
    {
      "cell_type": "markdown",
      "metadata": {
        "id": "view-in-github",
        "colab_type": "text"
      },
      "source": [
        "<a href=\"https://colab.research.google.com/github/NaughtyYoda/Web-Log-Analysis/blob/main/Web_Log_Analysis.ipynb\" target=\"_parent\"><img src=\"https://colab.research.google.com/assets/colab-badge.svg\" alt=\"Open In Colab\"/></a>"
      ]
    },
    {
      "cell_type": "markdown",
      "metadata": {
        "id": "yfKgGiMjxpT8"
      },
      "source": [
        "# WEB LOG ANALYSIS"
      ]
    },
    {
      "cell_type": "markdown",
      "metadata": {
        "id": "vrW8BTnLxpUB"
      },
      "source": [
        "# Import Libraries"
      ]
    },
    {
      "cell_type": "code",
      "metadata": {
        "id": "lZB3HvavxpUC"
      },
      "source": [
        "import pandas as pd\n",
        "import numpy as np\n",
        "import matplotlib.pyplot as plt\n",
        "%matplotlib inline\n",
        "import seaborn as sns\n",
        "from zipfile import ZipFile\n",
        "#!pip install ip2geotools\n",
        "from ip2geotools.databases.noncommercial import DbIpCity"
      ],
      "execution_count": 1,
      "outputs": []
    },
    {
      "cell_type": "markdown",
      "metadata": {
        "id": "db_LF9E_xpUD"
      },
      "source": [
        "# Load Web log files"
      ]
    },
    {
      "cell_type": "code",
      "metadata": {
        "colab": {
          "base_uri": "https://localhost:8080/"
        },
        "id": "SQZTprPbyIkD",
        "outputId": "b1968557-886b-4650-f7d6-73c33534952c"
      },
      "source": [
        "from google.colab import drive\n",
        "drive.mount('/content/drive')"
      ],
      "execution_count": 2,
      "outputs": [
        {
          "output_type": "stream",
          "text": [
            "Drive already mounted at /content/drive; to attempt to forcibly remount, call drive.mount(\"/content/drive\", force_remount=True).\n"
          ],
          "name": "stdout"
        }
      ]
    },
    {
      "cell_type": "code",
      "metadata": {
        "id": "uOkB44KaxpUE"
      },
      "source": [
        "zip_filename = '/content/drive/MyDrive/Colab Notebooks/Github/Web Log Analysis/HTWebLog_p1.zip'\n",
        "\n",
        "with ZipFile(zip_filename, 'r') as f:\n",
        "    # get individual file names in zip \n",
        "    log_filenames = f.namelist()\n",
        "    # extract all files from zip\n",
        "    f.extractall()"
      ],
      "execution_count": 3,
      "outputs": []
    },
    {
      "cell_type": "code",
      "metadata": {
        "colab": {
          "base_uri": "https://localhost:8080/"
        },
        "id": "0xhFmtAPxpUF",
        "outputId": "6d6188f3-f318-4fc4-da49-2e8345f02490"
      },
      "source": [
        "# first five log file names\n",
        "log_filenames[:5]"
      ],
      "execution_count": 4,
      "outputs": [
        {
          "output_type": "execute_result",
          "data": {
            "text/plain": [
              "['ex061101.log',\n",
              " 'ex061102.log',\n",
              " 'ex061103.log',\n",
              " 'ex061104.log',\n",
              " 'ex061105.log']"
            ]
          },
          "metadata": {
            "tags": []
          },
          "execution_count": 4
        }
      ]
    },
    {
      "cell_type": "markdown",
      "metadata": {
        "id": "pon57XB7xpUH"
      },
      "source": [
        "There are 120 log files in zip"
      ]
    },
    {
      "cell_type": "code",
      "metadata": {
        "colab": {
          "base_uri": "https://localhost:8080/"
        },
        "id": "QuwoWJXixpUI",
        "outputId": "327d3277-7d3f-4bf9-8506-81cf7faa29df"
      },
      "source": [
        "# total number of log files in zip\n",
        "len(log_filenames)"
      ],
      "execution_count": 5,
      "outputs": [
        {
          "output_type": "execute_result",
          "data": {
            "text/plain": [
              "120"
            ]
          },
          "metadata": {
            "tags": []
          },
          "execution_count": 5
        }
      ]
    },
    {
      "cell_type": "markdown",
      "metadata": {
        "id": "sNiVITqzxpUJ"
      },
      "source": [
        "### Store data from all 120 files in a single dataframe"
      ]
    },
    {
      "cell_type": "code",
      "metadata": {
        "colab": {
          "base_uri": "https://localhost:8080/"
        },
        "id": "fhejKdGExpUJ",
        "outputId": "ea52aa96-4bd0-48a2-c229-8e148017c0f0"
      },
      "source": [
        "# emplty list to store data\n",
        "data = []\n",
        "\n",
        "# column names\n",
        "ColumnNames=[\n",
        "    'date','time','s_sitename','s_ip','cs_method','cs_uri_stem',\n",
        "    'cs_uri_query','s_port','cs_username','c_ip','cs(User_Agent)',\n",
        "    'cs(Referer)','sc_status','sc_substatus','sc_win32_status'\n",
        "]\n",
        "\n",
        "def load_data(fileName):\n",
        "    \"\"\"\n",
        "    This function stores a file name in pandas dataframe.\n",
        "    Takes a global variable ColumnNames.\n",
        "    Also, it counts the number of times it is called.\n",
        "    \"\"\"\n",
        "    df = pd.read_csv(\n",
        "        fileName, \n",
        "        delim_whitespace=True, # the data in log files is separated by space\n",
        "        header = None, # to specify that there is no header in log files\n",
        "        names = ColumnNames, # pass the columns, extracted in previous code block\n",
        "        encoding = 'ISO-8859-1', \n",
        "        skiprows=4,\n",
        "        na_values = '-', # nan's are present as '-'\n",
        "        low_memory=False\n",
        "    ) \n",
        "\n",
        "    # remove rows which start with #\n",
        "    df = df[~df['date'].str.startswith(\"#\")]\n",
        "    \n",
        "    load_data.counter += 1\n",
        "    return df\n",
        "\n",
        "# load files\n",
        "print('Loading files in dataframe...(subtle weird mainframe noises in the background)')\n",
        "load_data.counter = 0\n",
        "data = [load_data(name) for name in log_filenames]\n",
        "\n",
        "# combine all log files in a single dataframe\n",
        "df_ht = pd.concat(data, ignore_index=True)\n",
        "\n",
        "# fix dtype\n",
        "for i in [7, 12, 13, 14]: \n",
        "      df_ht.iloc[:, i] = df_ht.iloc[:, i].astype('float64') # fix data type\n",
        "df_ht.iloc[:, 8] = df_ht.iloc[:, 8].astype('object') \n",
        "\n",
        "print(f'Done! Number of log files loaded: {load_data.counter}')"
      ],
      "execution_count": 6,
      "outputs": [
        {
          "output_type": "stream",
          "text": [
            "Loading files in dataframe...(subtle weird mainframe noises in the background)\n",
            "Done! Number of log files loaded: 120\n"
          ],
          "name": "stdout"
        }
      ]
    },
    {
      "cell_type": "markdown",
      "metadata": {
        "id": "LBupYaTOxpUL"
      },
      "source": [
        "# Data Exploration"
      ]
    },
    {
      "cell_type": "code",
      "metadata": {
        "colab": {
          "base_uri": "https://localhost:8080/",
          "height": 320
        },
        "id": "yXrtD1gLxpUL",
        "outputId": "77e659cb-12d2-44c2-809d-e3805a8e0bc7"
      },
      "source": [
        "# first five rows in the dataset\n",
        "df_ht.head()"
      ],
      "execution_count": 7,
      "outputs": [
        {
          "output_type": "execute_result",
          "data": {
            "text/html": [
              "<div>\n",
              "<style scoped>\n",
              "    .dataframe tbody tr th:only-of-type {\n",
              "        vertical-align: middle;\n",
              "    }\n",
              "\n",
              "    .dataframe tbody tr th {\n",
              "        vertical-align: top;\n",
              "    }\n",
              "\n",
              "    .dataframe thead th {\n",
              "        text-align: right;\n",
              "    }\n",
              "</style>\n",
              "<table border=\"1\" class=\"dataframe\">\n",
              "  <thead>\n",
              "    <tr style=\"text-align: right;\">\n",
              "      <th></th>\n",
              "      <th>date</th>\n",
              "      <th>time</th>\n",
              "      <th>s_sitename</th>\n",
              "      <th>s_ip</th>\n",
              "      <th>cs_method</th>\n",
              "      <th>cs_uri_stem</th>\n",
              "      <th>cs_uri_query</th>\n",
              "      <th>s_port</th>\n",
              "      <th>cs_username</th>\n",
              "      <th>c_ip</th>\n",
              "      <th>cs(User_Agent)</th>\n",
              "      <th>cs(Referer)</th>\n",
              "      <th>sc_status</th>\n",
              "      <th>sc_substatus</th>\n",
              "      <th>sc_win32_status</th>\n",
              "    </tr>\n",
              "  </thead>\n",
              "  <tbody>\n",
              "    <tr>\n",
              "      <th>0</th>\n",
              "      <td>2006-11-01</td>\n",
              "      <td>00:00:08</td>\n",
              "      <td>W3SVC1</td>\n",
              "      <td>127.0.0.1</td>\n",
              "      <td>GET</td>\n",
              "      <td>/Default.aspx</td>\n",
              "      <td>NaN</td>\n",
              "      <td>80.0</td>\n",
              "      <td>NaN</td>\n",
              "      <td>70.80.84.76</td>\n",
              "      <td>Mozilla/4.0+(compatible;+MSIE+6.0;+Windows+NT+...</td>\n",
              "      <td>http://www.google.com/search?sourceid=navclien...</td>\n",
              "      <td>200.0</td>\n",
              "      <td>0.0</td>\n",
              "      <td>0.0</td>\n",
              "    </tr>\n",
              "    <tr>\n",
              "      <th>1</th>\n",
              "      <td>2006-11-01</td>\n",
              "      <td>00:00:08</td>\n",
              "      <td>W3SVC1</td>\n",
              "      <td>127.0.0.1</td>\n",
              "      <td>GET</td>\n",
              "      <td>/Tulip/home/en-us/home_index.aspx</td>\n",
              "      <td>NaN</td>\n",
              "      <td>80.0</td>\n",
              "      <td>NaN</td>\n",
              "      <td>70.80.84.76</td>\n",
              "      <td>Mozilla/4.0+(compatible;+MSIE+6.0;+Windows+NT+...</td>\n",
              "      <td>NaN</td>\n",
              "      <td>200.0</td>\n",
              "      <td>0.0</td>\n",
              "      <td>0.0</td>\n",
              "    </tr>\n",
              "    <tr>\n",
              "      <th>2</th>\n",
              "      <td>2006-11-01</td>\n",
              "      <td>00:00:08</td>\n",
              "      <td>W3SVC1</td>\n",
              "      <td>127.0.0.1</td>\n",
              "      <td>GET</td>\n",
              "      <td>/Tulip/includes/js/CommonUtil.js</td>\n",
              "      <td>NaN</td>\n",
              "      <td>80.0</td>\n",
              "      <td>NaN</td>\n",
              "      <td>70.80.84.76</td>\n",
              "      <td>Mozilla/4.0+(compatible;+MSIE+6.0;+Windows+NT+...</td>\n",
              "      <td>http://www.hotelTulip.com.hk/Tulip/home/en-us/...</td>\n",
              "      <td>200.0</td>\n",
              "      <td>0.0</td>\n",
              "      <td>0.0</td>\n",
              "    </tr>\n",
              "    <tr>\n",
              "      <th>3</th>\n",
              "      <td>2006-11-01</td>\n",
              "      <td>00:00:09</td>\n",
              "      <td>W3SVC1</td>\n",
              "      <td>127.0.0.1</td>\n",
              "      <td>GET</td>\n",
              "      <td>/Tulip/common/common_style.aspx</td>\n",
              "      <td>lang=en-us</td>\n",
              "      <td>80.0</td>\n",
              "      <td>NaN</td>\n",
              "      <td>70.80.84.76</td>\n",
              "      <td>Mozilla/4.0+(compatible;+MSIE+6.0;+Windows+NT+...</td>\n",
              "      <td>http://www.hotelTulip.com.hk/Tulip/home/en-us/...</td>\n",
              "      <td>200.0</td>\n",
              "      <td>0.0</td>\n",
              "      <td>0.0</td>\n",
              "    </tr>\n",
              "    <tr>\n",
              "      <th>4</th>\n",
              "      <td>2006-11-01</td>\n",
              "      <td>00:00:09</td>\n",
              "      <td>W3SVC1</td>\n",
              "      <td>127.0.0.1</td>\n",
              "      <td>GET</td>\n",
              "      <td>/Tulip/common/en-us/images/top_img.jpg</td>\n",
              "      <td>NaN</td>\n",
              "      <td>80.0</td>\n",
              "      <td>NaN</td>\n",
              "      <td>70.80.84.76</td>\n",
              "      <td>Mozilla/4.0+(compatible;+MSIE+6.0;+Windows+NT+...</td>\n",
              "      <td>http://www.hotelTulip.com.hk/Tulip/home/en-us/...</td>\n",
              "      <td>200.0</td>\n",
              "      <td>0.0</td>\n",
              "      <td>0.0</td>\n",
              "    </tr>\n",
              "  </tbody>\n",
              "</table>\n",
              "</div>"
            ],
            "text/plain": [
              "         date      time s_sitename  ... sc_status sc_substatus sc_win32_status\n",
              "0  2006-11-01  00:00:08     W3SVC1  ...     200.0          0.0             0.0\n",
              "1  2006-11-01  00:00:08     W3SVC1  ...     200.0          0.0             0.0\n",
              "2  2006-11-01  00:00:08     W3SVC1  ...     200.0          0.0             0.0\n",
              "3  2006-11-01  00:00:09     W3SVC1  ...     200.0          0.0             0.0\n",
              "4  2006-11-01  00:00:09     W3SVC1  ...     200.0          0.0             0.0\n",
              "\n",
              "[5 rows x 15 columns]"
            ]
          },
          "metadata": {
            "tags": []
          },
          "execution_count": 7
        }
      ]
    },
    {
      "cell_type": "markdown",
      "metadata": {
        "id": "1LO1_K6ixpUN"
      },
      "source": [
        "There are approx. 8.4 million observations in the dataset with 15 columns"
      ]
    },
    {
      "cell_type": "code",
      "metadata": {
        "colab": {
          "base_uri": "https://localhost:8080/"
        },
        "id": "81E9rQ6JxpUN",
        "outputId": "867c951a-17b2-4242-b627-b0186d048a90"
      },
      "source": [
        "df_ht.shape"
      ],
      "execution_count": 8,
      "outputs": [
        {
          "output_type": "execute_result",
          "data": {
            "text/plain": [
              "(8438928, 15)"
            ]
          },
          "metadata": {
            "tags": []
          },
          "execution_count": 8
        }
      ]
    },
    {
      "cell_type": "code",
      "metadata": {
        "colab": {
          "base_uri": "https://localhost:8080/"
        },
        "id": "HJ6xva7-xpUO",
        "outputId": "6e86f83e-d24d-40ca-b02e-68cdc2040c06"
      },
      "source": [
        "df_ht.info()"
      ],
      "execution_count": 9,
      "outputs": [
        {
          "output_type": "stream",
          "text": [
            "<class 'pandas.core.frame.DataFrame'>\n",
            "RangeIndex: 8438928 entries, 0 to 8438927\n",
            "Data columns (total 15 columns):\n",
            " #   Column           Dtype  \n",
            "---  ------           -----  \n",
            " 0   date             object \n",
            " 1   time             object \n",
            " 2   s_sitename       object \n",
            " 3   s_ip             object \n",
            " 4   cs_method        object \n",
            " 5   cs_uri_stem      object \n",
            " 6   cs_uri_query     object \n",
            " 7   s_port           float64\n",
            " 8   cs_username      object \n",
            " 9   c_ip             object \n",
            " 10  cs(User_Agent)   object \n",
            " 11  cs(Referer)      object \n",
            " 12  sc_status        float64\n",
            " 13  sc_substatus     float64\n",
            " 14  sc_win32_status  float64\n",
            "dtypes: float64(4), object(11)\n",
            "memory usage: 965.8+ MB\n"
          ],
          "name": "stdout"
        }
      ]
    },
    {
      "cell_type": "markdown",
      "metadata": {
        "id": "kPQDZi-xxpUP"
      },
      "source": [
        "### Missing values"
      ]
    },
    {
      "cell_type": "code",
      "metadata": {
        "colab": {
          "base_uri": "https://localhost:8080/",
          "height": 178
        },
        "id": "XCrtM7B_xpUP",
        "outputId": "4159b790-cc79-4648-81e0-cbec647f8180"
      },
      "source": [
        "# missing values in respective columns:\n",
        "def missing_data(df):\n",
        "    \"\"\"\n",
        "    This function checks the number of missing values and missing percentage in a pandas dataframe.\n",
        "    \"\"\"\n",
        "    missing_count = df.isnull().sum()\n",
        "    missing_perc = df.isnull().sum()/len(df)*100\n",
        "    missing_count = missing_count[missing_count > 0].sort_values(ascending=False)\n",
        "    missing_perc = missing_perc[missing_perc > 0].sort_values(ascending=False)\n",
        "    missing_data = pd.concat([missing_count, missing_perc], axis=1)\n",
        "    missing_data.columns = ['missing_count', 'missing_percentage %']\n",
        "    return missing_data\n",
        "\n",
        "missing_data(df_ht)"
      ],
      "execution_count": 10,
      "outputs": [
        {
          "output_type": "execute_result",
          "data": {
            "text/html": [
              "<div>\n",
              "<style scoped>\n",
              "    .dataframe tbody tr th:only-of-type {\n",
              "        vertical-align: middle;\n",
              "    }\n",
              "\n",
              "    .dataframe tbody tr th {\n",
              "        vertical-align: top;\n",
              "    }\n",
              "\n",
              "    .dataframe thead th {\n",
              "        text-align: right;\n",
              "    }\n",
              "</style>\n",
              "<table border=\"1\" class=\"dataframe\">\n",
              "  <thead>\n",
              "    <tr style=\"text-align: right;\">\n",
              "      <th></th>\n",
              "      <th>missing_count</th>\n",
              "      <th>missing_percentage %</th>\n",
              "    </tr>\n",
              "  </thead>\n",
              "  <tbody>\n",
              "    <tr>\n",
              "      <th>cs_username</th>\n",
              "      <td>8438928</td>\n",
              "      <td>100.000000</td>\n",
              "    </tr>\n",
              "    <tr>\n",
              "      <th>cs_uri_query</th>\n",
              "      <td>7886532</td>\n",
              "      <td>93.454192</td>\n",
              "    </tr>\n",
              "    <tr>\n",
              "      <th>cs(Referer)</th>\n",
              "      <td>1308994</td>\n",
              "      <td>15.511378</td>\n",
              "    </tr>\n",
              "    <tr>\n",
              "      <th>cs(User_Agent)</th>\n",
              "      <td>3527</td>\n",
              "      <td>0.041794</td>\n",
              "    </tr>\n",
              "  </tbody>\n",
              "</table>\n",
              "</div>"
            ],
            "text/plain": [
              "                missing_count  missing_percentage %\n",
              "cs_username           8438928            100.000000\n",
              "cs_uri_query          7886532             93.454192\n",
              "cs(Referer)           1308994             15.511378\n",
              "cs(User_Agent)           3527              0.041794"
            ]
          },
          "metadata": {
            "tags": []
          },
          "execution_count": 10
        }
      ]
    },
    {
      "cell_type": "code",
      "metadata": {
        "colab": {
          "base_uri": "https://localhost:8080/",
          "height": 100
        },
        "id": "psIskODWxpUQ",
        "outputId": "5ab7b1b7-96df-4d8e-f0c3-7fd0a4c8bdff"
      },
      "source": [
        "# drop columns with atleast 15% missing values\n",
        "df_ht.dropna(axis=1, thresh=0.85*len(df_ht), inplace=True)\n",
        "\n",
        "# percentage of missing values after removing\n",
        "print('Pecentage of Missing Values after removing columns with 15% or more missing values:')\n",
        "missing_data(df_ht)"
      ],
      "execution_count": 11,
      "outputs": [
        {
          "output_type": "stream",
          "text": [
            "Pecentage of Missing Values after removing columns with 15% or more missing values:\n"
          ],
          "name": "stdout"
        },
        {
          "output_type": "execute_result",
          "data": {
            "text/html": [
              "<div>\n",
              "<style scoped>\n",
              "    .dataframe tbody tr th:only-of-type {\n",
              "        vertical-align: middle;\n",
              "    }\n",
              "\n",
              "    .dataframe tbody tr th {\n",
              "        vertical-align: top;\n",
              "    }\n",
              "\n",
              "    .dataframe thead th {\n",
              "        text-align: right;\n",
              "    }\n",
              "</style>\n",
              "<table border=\"1\" class=\"dataframe\">\n",
              "  <thead>\n",
              "    <tr style=\"text-align: right;\">\n",
              "      <th></th>\n",
              "      <th>missing_count</th>\n",
              "      <th>missing_percentage %</th>\n",
              "    </tr>\n",
              "  </thead>\n",
              "  <tbody>\n",
              "    <tr>\n",
              "      <th>cs(User_Agent)</th>\n",
              "      <td>3527</td>\n",
              "      <td>0.041794</td>\n",
              "    </tr>\n",
              "  </tbody>\n",
              "</table>\n",
              "</div>"
            ],
            "text/plain": [
              "                missing_count  missing_percentage %\n",
              "cs(User_Agent)           3527              0.041794"
            ]
          },
          "metadata": {
            "tags": []
          },
          "execution_count": 11
        }
      ]
    },
    {
      "cell_type": "code",
      "metadata": {
        "id": "y8lvEC-4xpUR"
      },
      "source": [
        "# drop remaining rows with missing values\n",
        "df_ht.dropna(axis=0, inplace=True)"
      ],
      "execution_count": 12,
      "outputs": []
    },
    {
      "cell_type": "code",
      "metadata": {
        "colab": {
          "base_uri": "https://localhost:8080/"
        },
        "id": "hFVstqZmxpUR",
        "outputId": "fb7ffba7-1b50-40b0-8ee1-38f3192bcc52"
      },
      "source": [
        "# shape of data after removing NA's\n",
        "df_ht.shape"
      ],
      "execution_count": 13,
      "outputs": [
        {
          "output_type": "execute_result",
          "data": {
            "text/plain": [
              "(8435401, 12)"
            ]
          },
          "metadata": {
            "tags": []
          },
          "execution_count": 13
        }
      ]
    },
    {
      "cell_type": "code",
      "metadata": {
        "colab": {
          "base_uri": "https://localhost:8080/",
          "height": 320
        },
        "id": "_Sq95S4jxpUR",
        "outputId": "44588a71-14b6-49ba-aad9-ef4ee364dcb7"
      },
      "source": [
        "df_ht.head()"
      ],
      "execution_count": 14,
      "outputs": [
        {
          "output_type": "execute_result",
          "data": {
            "text/html": [
              "<div>\n",
              "<style scoped>\n",
              "    .dataframe tbody tr th:only-of-type {\n",
              "        vertical-align: middle;\n",
              "    }\n",
              "\n",
              "    .dataframe tbody tr th {\n",
              "        vertical-align: top;\n",
              "    }\n",
              "\n",
              "    .dataframe thead th {\n",
              "        text-align: right;\n",
              "    }\n",
              "</style>\n",
              "<table border=\"1\" class=\"dataframe\">\n",
              "  <thead>\n",
              "    <tr style=\"text-align: right;\">\n",
              "      <th></th>\n",
              "      <th>date</th>\n",
              "      <th>time</th>\n",
              "      <th>s_sitename</th>\n",
              "      <th>s_ip</th>\n",
              "      <th>cs_method</th>\n",
              "      <th>cs_uri_stem</th>\n",
              "      <th>s_port</th>\n",
              "      <th>c_ip</th>\n",
              "      <th>cs(User_Agent)</th>\n",
              "      <th>sc_status</th>\n",
              "      <th>sc_substatus</th>\n",
              "      <th>sc_win32_status</th>\n",
              "    </tr>\n",
              "  </thead>\n",
              "  <tbody>\n",
              "    <tr>\n",
              "      <th>0</th>\n",
              "      <td>2006-11-01</td>\n",
              "      <td>00:00:08</td>\n",
              "      <td>W3SVC1</td>\n",
              "      <td>127.0.0.1</td>\n",
              "      <td>GET</td>\n",
              "      <td>/Default.aspx</td>\n",
              "      <td>80.0</td>\n",
              "      <td>70.80.84.76</td>\n",
              "      <td>Mozilla/4.0+(compatible;+MSIE+6.0;+Windows+NT+...</td>\n",
              "      <td>200.0</td>\n",
              "      <td>0.0</td>\n",
              "      <td>0.0</td>\n",
              "    </tr>\n",
              "    <tr>\n",
              "      <th>1</th>\n",
              "      <td>2006-11-01</td>\n",
              "      <td>00:00:08</td>\n",
              "      <td>W3SVC1</td>\n",
              "      <td>127.0.0.1</td>\n",
              "      <td>GET</td>\n",
              "      <td>/Tulip/home/en-us/home_index.aspx</td>\n",
              "      <td>80.0</td>\n",
              "      <td>70.80.84.76</td>\n",
              "      <td>Mozilla/4.0+(compatible;+MSIE+6.0;+Windows+NT+...</td>\n",
              "      <td>200.0</td>\n",
              "      <td>0.0</td>\n",
              "      <td>0.0</td>\n",
              "    </tr>\n",
              "    <tr>\n",
              "      <th>2</th>\n",
              "      <td>2006-11-01</td>\n",
              "      <td>00:00:08</td>\n",
              "      <td>W3SVC1</td>\n",
              "      <td>127.0.0.1</td>\n",
              "      <td>GET</td>\n",
              "      <td>/Tulip/includes/js/CommonUtil.js</td>\n",
              "      <td>80.0</td>\n",
              "      <td>70.80.84.76</td>\n",
              "      <td>Mozilla/4.0+(compatible;+MSIE+6.0;+Windows+NT+...</td>\n",
              "      <td>200.0</td>\n",
              "      <td>0.0</td>\n",
              "      <td>0.0</td>\n",
              "    </tr>\n",
              "    <tr>\n",
              "      <th>3</th>\n",
              "      <td>2006-11-01</td>\n",
              "      <td>00:00:09</td>\n",
              "      <td>W3SVC1</td>\n",
              "      <td>127.0.0.1</td>\n",
              "      <td>GET</td>\n",
              "      <td>/Tulip/common/common_style.aspx</td>\n",
              "      <td>80.0</td>\n",
              "      <td>70.80.84.76</td>\n",
              "      <td>Mozilla/4.0+(compatible;+MSIE+6.0;+Windows+NT+...</td>\n",
              "      <td>200.0</td>\n",
              "      <td>0.0</td>\n",
              "      <td>0.0</td>\n",
              "    </tr>\n",
              "    <tr>\n",
              "      <th>4</th>\n",
              "      <td>2006-11-01</td>\n",
              "      <td>00:00:09</td>\n",
              "      <td>W3SVC1</td>\n",
              "      <td>127.0.0.1</td>\n",
              "      <td>GET</td>\n",
              "      <td>/Tulip/common/en-us/images/top_img.jpg</td>\n",
              "      <td>80.0</td>\n",
              "      <td>70.80.84.76</td>\n",
              "      <td>Mozilla/4.0+(compatible;+MSIE+6.0;+Windows+NT+...</td>\n",
              "      <td>200.0</td>\n",
              "      <td>0.0</td>\n",
              "      <td>0.0</td>\n",
              "    </tr>\n",
              "  </tbody>\n",
              "</table>\n",
              "</div>"
            ],
            "text/plain": [
              "         date      time s_sitename  ... sc_status sc_substatus sc_win32_status\n",
              "0  2006-11-01  00:00:08     W3SVC1  ...     200.0          0.0             0.0\n",
              "1  2006-11-01  00:00:08     W3SVC1  ...     200.0          0.0             0.0\n",
              "2  2006-11-01  00:00:08     W3SVC1  ...     200.0          0.0             0.0\n",
              "3  2006-11-01  00:00:09     W3SVC1  ...     200.0          0.0             0.0\n",
              "4  2006-11-01  00:00:09     W3SVC1  ...     200.0          0.0             0.0\n",
              "\n",
              "[5 rows x 12 columns]"
            ]
          },
          "metadata": {
            "tags": []
          },
          "execution_count": 14
        }
      ]
    },
    {
      "cell_type": "markdown",
      "metadata": {
        "id": "Dj67TfAOxpUS"
      },
      "source": [
        "# Web Traffic Analysis"
      ]
    },
    {
      "cell_type": "code",
      "metadata": {
        "id": "yfx423sqxpUS"
      },
      "source": [
        "def get_hour(time_string):\n",
        "    \"\"\" this function gets the hour of the day from time string\"\"\"\n",
        "    # splits the string where ':' character\n",
        "    tokens = time_string.split(':')\n",
        "    # get the first token (hour) and change the data type to int\n",
        "    hour_token = int(tokens[0])\n",
        "    return hour_token"
      ],
      "execution_count": 15,
      "outputs": []
    },
    {
      "cell_type": "code",
      "metadata": {
        "colab": {
          "base_uri": "https://localhost:8080/"
        },
        "id": "v7M-oaBVxpUS",
        "outputId": "9df2b1f3-d098-497f-c5c7-0fc03a8b48f7"
      },
      "source": [
        "# example:\n",
        "print(f\"Original Time string - {df_ht['time'][4546]}\")\n",
        "print(f\"After applying get_hour function on above time string - {get_hour(df_ht['time'][4546])}\")"
      ],
      "execution_count": 16,
      "outputs": [
        {
          "output_type": "stream",
          "text": [
            "Original Time string - 02:13:17\n",
            "After applying get_hour function on above time string - 2\n"
          ],
          "name": "stdout"
        }
      ]
    },
    {
      "cell_type": "code",
      "metadata": {
        "colab": {
          "base_uri": "https://localhost:8080/"
        },
        "id": "EQ4TsajNxpUT",
        "outputId": "39f81961-4f07-483c-c2c8-e7fdf4d2161f"
      },
      "source": [
        "# apply function on data frame attribute\n",
        "hourly_request_amount = df_ht['time'].apply(get_hour).value_counts()\n",
        "hourly_request_amount"
      ],
      "execution_count": 17,
      "outputs": [
        {
          "output_type": "execute_result",
          "data": {
            "text/plain": [
              "9     553564\n",
              "8     550744\n",
              "3     546655\n",
              "6     544734\n",
              "4     529352\n",
              "7     522365\n",
              "14    493695\n",
              "5     487330\n",
              "15    473057\n",
              "10    443519\n",
              "13    442429\n",
              "2     432290\n",
              "16    387291\n",
              "11    368948\n",
              "12    367635\n",
              "1     344334\n",
              "17    250285\n",
              "18    159546\n",
              "0     155914\n",
              "19     93829\n",
              "23     83634\n",
              "20     72559\n",
              "21     66474\n",
              "22     65218\n",
              "Name: time, dtype: int64"
            ]
          },
          "metadata": {
            "tags": []
          },
          "execution_count": 17
        }
      ]
    },
    {
      "cell_type": "markdown",
      "metadata": {
        "id": "pqArTprhxpUU"
      },
      "source": [
        "### Hourly Requests"
      ]
    },
    {
      "cell_type": "markdown",
      "metadata": {
        "id": "kVp9OztbxpUU"
      },
      "source": [
        "- The bar chart displays the hourly traffic on the server, throughout the day, for a period between 1st November 2006 to 1st March 2007.\n",
        "- The x-axis represents the hour of the day (time-period) and y-axis represents the number of requests received in that respective time-period. \n",
        "- It can be observed that the traffic is high twice a day i.e., between 3 a.m. to 9 a.m. and 1 p.m. to 4 p.m. Finally, the traffic starts declining after evening.\n",
        "- The distribution looks like a bimodal distribution.   "
      ]
    },
    {
      "cell_type": "code",
      "metadata": {
        "colab": {
          "base_uri": "https://localhost:8080/",
          "height": 513
        },
        "id": "zqkQCmPuxpUU",
        "outputId": "8c56a40f-401c-46b1-c308-b1cd36738d90"
      },
      "source": [
        "# bar chart\n",
        "with plt.style.context('seaborn'):\n",
        "    plt.figure(figsize=(15, 8))\n",
        "    plt.bar(hourly_request_amount.index, hourly_request_amount.values, color='crimson')\n",
        "    plt.xticks(hourly_request_amount.index.sort_values())\n",
        "    plt.yticks(np.arange(0, 600_001, 50_000))\n",
        "    plt.title(\"Requests per Hour\")\n",
        "    plt.ylabel('Number of requests')\n",
        "    plt.xlabel('Hour of the day')"
      ],
      "execution_count": 18,
      "outputs": [
        {
          "output_type": "display_data",
          "data": {
            "image/png": "[encoded data removed]",
            "text/plain": [
              "<Figure size 1080x576 with 1 Axes>"
            ]
          },
          "metadata": {
            "tags": []
          }
        }
      ]
    },
    {
      "cell_type": "markdown",
      "metadata": {
        "id": "tgwo7B6yxpUW"
      },
      "source": [
        "# Server Analysis"
      ]
    },
    {
      "cell_type": "code",
      "metadata": {
        "colab": {
          "base_uri": "https://localhost:8080/"
        },
        "id": "IchFIzRRxpUW",
        "outputId": "f5e23054-9105-40ac-c8ef-8fd730607e67"
      },
      "source": [
        "# types of reported status\n",
        "status_counts = df_ht['sc_status'].value_counts()\n",
        "print(status_counts.index.values)"
      ],
      "execution_count": 19,
      "outputs": [
        {
          "output_type": "stream",
          "text": [
            "[200. 304. 404. 206. 302. 500. 403. 301. 400. 501. 406. 416.]\n"
          ],
          "name": "stdout"
        }
      ]
    },
    {
      "cell_type": "code",
      "metadata": {
        "colab": {
          "base_uri": "https://localhost:8080/"
        },
        "id": "gXNp436QxpUX",
        "outputId": "91161d41-7576-47a8-a331-51044844f85a"
      },
      "source": [
        "status_counts"
      ],
      "execution_count": 20,
      "outputs": [
        {
          "output_type": "execute_result",
          "data": {
            "text/plain": [
              "200.0    6072524\n",
              "304.0    2136930\n",
              "404.0     142583\n",
              "206.0      72472\n",
              "302.0       7366\n",
              "500.0       2013\n",
              "403.0        700\n",
              "301.0        433\n",
              "400.0        210\n",
              "501.0        113\n",
              "406.0         54\n",
              "416.0          3\n",
              "Name: sc_status, dtype: int64"
            ]
          },
          "metadata": {
            "tags": []
          },
          "execution_count": 20
        }
      ]
    },
    {
      "cell_type": "code",
      "metadata": {
        "colab": {
          "base_uri": "https://localhost:8080/"
        },
        "id": "vQheMAyaxpUY",
        "outputId": "fc66a41e-e74b-4ded-c301-28f08441789f"
      },
      "source": [
        "# number of status\n",
        "print(len(status_counts.index.values))"
      ],
      "execution_count": 21,
      "outputs": [
        {
          "output_type": "stream",
          "text": [
            "12\n"
          ],
          "name": "stdout"
        }
      ]
    },
    {
      "cell_type": "code",
      "metadata": {
        "colab": {
          "base_uri": "https://localhost:8080/"
        },
        "id": "YvzflYpdxpUZ",
        "outputId": "89f18a6c-b5ac-47e2-bbc5-92fab9113266"
      },
      "source": [
        "status_counts.index.astype('category')"
      ],
      "execution_count": 22,
      "outputs": [
        {
          "output_type": "execute_result",
          "data": {
            "text/plain": [
              "CategoricalIndex([200.0, 304.0, 404.0, 206.0, 302.0, 500.0, 403.0, 301.0,\n",
              "                  400.0, 501.0, 406.0, 416.0],\n",
              "                 categories=[200.0, 206.0, 301.0, 302.0, 304.0, 400.0, 403.0, 404.0, ...], ordered=False, dtype='category')"
            ]
          },
          "metadata": {
            "tags": []
          },
          "execution_count": 22
        }
      ]
    },
    {
      "cell_type": "markdown",
      "metadata": {
        "id": "2lISBeRzxpUZ"
      },
      "source": [
        "### Reported Server Status\n",
        "- The pie chart displays the percentage of number of times a type of server status was reported. \n",
        "- Server status type 200 was the most common server-status type reported during that time-period (approx. 72 percent of the time). \n",
        "- The second most common server-status reported was 304 (approx. 25 percent of time), followed by 404 (approx 2%).\n",
        "- Rest of the server-status reported were quite rare (less than equal to 1 percent of the time). "
      ]
    },
    {
      "cell_type": "code",
      "metadata": {
        "colab": {
          "base_uri": "https://localhost:8080/",
          "height": 408
        },
        "id": "blUF8FA4xpUa",
        "outputId": "8157e6e8-2afb-4d3a-f492-c9f86c0dd3ce"
      },
      "source": [
        "x = [str(val) for i, val in enumerate(status_counts.index) if i < 4]\n",
        "x[3] = 'OTHERS'\n",
        "y = [round(val/sum(status_counts.values)*100, 1) for i, val in enumerate(status_counts) if i < 4]\n",
        "with plt.style.context('ggplot'):\n",
        "    plt.figure(figsize=(8, 6))\n",
        "    plt.bar(x, y, edgecolor='black', color='teal')\n",
        "    for s, val in zip(x, y):\n",
        "        plt.text(s, val+3, f\"{val}%\", ha='center', bbox=dict(boxstyle='round', fc='lightgray', ec='black'))\n",
        "    plt.yticks(np.arange(0, 101, 10))\n",
        "    plt.title(\"Reported Server status\")\n",
        "    plt.xlabel('Status error')\n",
        "    plt.ylabel('Number of time reported %')"
      ],
      "execution_count": 23,
      "outputs": [
        {
          "output_type": "display_data",
          "data": {
            "image/png": "[encoded data removed]",
            "text/plain": [
              "<Figure size 576x432 with 1 Axes>"
            ]
          },
          "metadata": {
            "tags": []
          }
        }
      ]
    },
    {
      "cell_type": "markdown",
      "metadata": {
        "id": "LKcYIMGqxpUa"
      },
      "source": [
        "# Geographical Analysis\n",
        "The ipgeotools package can be used to get country and city names from the I.P. address. Since, the data is huge, only records for a specific day i.e., January 1, 2007 are selected."
      ]
    },
    {
      "cell_type": "code",
      "metadata": {
        "id": "xng1UzkpxpUa"
      },
      "source": [
        "# create a combined date-time column and parse it using pandas datetime function\n",
        "df_ht['date_time'] = pd.to_datetime((df_ht['date'] + ' ' + df_ht['time']))\n",
        "\n",
        "# selected requests\n",
        "selected_requests = df_ht[df_ht['date_time'].between('2007-01-01 20:00:00', \n",
        "                                                     '2007-01-01 20:59:59', \n",
        "                                                     inclusive=True)].reset_index(drop=True)"
      ],
      "execution_count": 24,
      "outputs": []
    },
    {
      "cell_type": "code",
      "metadata": {
        "colab": {
          "base_uri": "https://localhost:8080/"
        },
        "id": "0F8lhGiBxpUb",
        "outputId": "d6aab62b-887e-49d5-bdfb-65c767cfef70"
      },
      "source": [
        "# number of requests raised in that period\n",
        "len(selected_requests)"
      ],
      "execution_count": 25,
      "outputs": [
        {
          "output_type": "execute_result",
          "data": {
            "text/plain": [
              "214"
            ]
          },
          "metadata": {
            "tags": []
          },
          "execution_count": 25
        }
      ]
    },
    {
      "cell_type": "markdown",
      "metadata": {
        "id": "2LWeOyntxpUb"
      },
      "source": [
        "### Country "
      ]
    },
    {
      "cell_type": "code",
      "metadata": {
        "id": "kR05E8bXxpUc"
      },
      "source": [
        "# get country codes\n",
        "selected_requests['country_code'] = selected_requests['c_ip'].apply(lambda x: DbIpCity.get(x).country)"
      ],
      "execution_count": 26,
      "outputs": []
    },
    {
      "cell_type": "code",
      "metadata": {
        "colab": {
          "base_uri": "https://localhost:8080/"
        },
        "id": "90eavHyXxpUc",
        "outputId": "6b0db009-8d7f-4848-d667-f7b11c4150b2"
      },
      "source": [
        "# number of countries involved\n",
        "len(selected_requests['country_code'].unique())"
      ],
      "execution_count": 27,
      "outputs": [
        {
          "output_type": "execute_result",
          "data": {
            "text/plain": [
              "5"
            ]
          },
          "metadata": {
            "tags": []
          },
          "execution_count": 27
        }
      ]
    },
    {
      "cell_type": "code",
      "metadata": {
        "colab": {
          "base_uri": "https://localhost:8080/",
          "height": 501
        },
        "id": "yIqU8W8YxpUd",
        "outputId": "4aa84ea6-88ff-4831-e057-8c9ec1433e57"
      },
      "source": [
        "country_counts = selected_requests['country_code'].value_counts()\n",
        "country_col = sns.color_palette(\"Set2\")\n",
        "with plt.style.context('ggplot'):\n",
        "    fig, ax = plt.subplots(1, 2, figsize=(15, 7))\n",
        "    plt.subplots_adjust(wspace=0.4)\n",
        "    # plot 1: pie\n",
        "    ax[0].pie(labels=country_counts.index, \n",
        "              x=country_counts.values, \n",
        "              colors=country_col, \n",
        "              autopct='%.2f%%', \n",
        "              radius=1.2)\n",
        "    ax[0].set_title('Percentge of requests by country')\n",
        "    # plot 2: bar\n",
        "    ax[1].bar(country_counts.index, \n",
        "              country_counts.values, \n",
        "              color=country_col)\n",
        "    for x, y in zip(country_counts.index, country_counts.values):\n",
        "        ax[1].text(x, y+1, y, ha='center')\n",
        "    ax[1].set_title('Count of requests by country')\n",
        "    ax[1].set_xlabel('Country Name')\n",
        "    ax[1].set_ylabel('Number of requests')\n",
        "    fig.legend(country_counts.index)"
      ],
      "execution_count": 28,
      "outputs": [
        {
          "output_type": "display_data",
          "data": {
            "image/png": "[encoded data removed]",
            "text/plain": [
              "<Figure size 1080x504 with 2 Axes>"
            ]
          },
          "metadata": {
            "tags": []
          }
        }
      ]
    },
    {
      "cell_type": "markdown",
      "metadata": {
        "id": "4yPERzo4xpUe"
      },
      "source": [
        "### City"
      ]
    },
    {
      "cell_type": "code",
      "metadata": {
        "id": "03IRI8fmxpUe"
      },
      "source": [
        "selected_requests['city'] = selected_requests['c_ip'].apply(lambda x: DbIpCity.get(x).city)"
      ],
      "execution_count": 29,
      "outputs": []
    },
    {
      "cell_type": "code",
      "metadata": {
        "colab": {
          "base_uri": "https://localhost:8080/"
        },
        "id": "rKmC1y66xpUe",
        "outputId": "70406ede-0225-4c24-d062-a2c1c6a8b7e9"
      },
      "source": [
        "# number of cities involved\n",
        "len(selected_requests['city'].unique())"
      ],
      "execution_count": 30,
      "outputs": [
        {
          "output_type": "execute_result",
          "data": {
            "text/plain": [
              "11"
            ]
          },
          "metadata": {
            "tags": []
          },
          "execution_count": 30
        }
      ]
    },
    {
      "cell_type": "code",
      "metadata": {
        "colab": {
          "base_uri": "https://localhost:8080/",
          "height": 391
        },
        "id": "_JC_azpvxpUf",
        "outputId": "6f999baf-a19d-41c1-de6c-ef3b21228fd8"
      },
      "source": [
        "with plt.style.context('ggplot'):\n",
        "    plt.figure(figsize=(15, 6))\n",
        "    sns.countplot(data=selected_requests, y='city', color='forestgreen')\n",
        "    plt.ylabel('City')\n",
        "    plt.xlabel('Number of requests')\n",
        "    plt.xticks(np.arange(0, 181, 20))"
      ],
      "execution_count": 31,
      "outputs": [
        {
          "output_type": "display_data",
          "data": {
            "image/png": "[encoded data removed]",
            "text/plain": [
              "<Figure size 1080x432 with 1 Axes>"
            ]
          },
          "metadata": {
            "tags": []
          }
        }
      ]
    }
  ]
}