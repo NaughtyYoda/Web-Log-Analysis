{
  "nbformat": 4,
  "nbformat_minor": 0,
  "metadata": {
    "colab": {
      "name": "Web Crawling and Time Series Analysis",
      "provenance": [],
      "authorship_tag": "ABX9TyNqGgbm/PBToD3wbvsKI7zH",
      "include_colab_link": true
    },
    "kernelspec": {
      "name": "python3",
      "display_name": "Python 3"
    },
    "language_info": {
      "name": "python"
    }
  },
  "cells": [
    {
      "cell_type": "markdown",
      "metadata": {
        "id": "view-in-github",
        "colab_type": "text"
      },
      "source": [
        "<a href=\"https://colab.research.google.com/github/NaughtyYoda/Web-Log-Analysis/blob/main/Web_Crawling_and_Time_Series_Analysis.ipynb\" target=\"_parent\"><img src=\"https://colab.research.google.com/assets/colab-badge.svg\" alt=\"Open In Colab\"/></a>"
      ]
    },
    {
      "cell_type": "markdown",
      "metadata": {
        "id": "lJPs_0Q6mooL"
      },
      "source": [
        "# Import Libraries"
      ]
    },
    {
      "cell_type": "code",
      "metadata": {
        "colab": {
          "base_uri": "https://localhost:8080/"
        },
        "id": "KtS61nE3mHag",
        "outputId": "5df74c22-94c1-4c71-9d0e-b1e9ab2cd71c"
      },
      "source": [
        "# data manipulation\n",
        "import pandas as pd\n",
        "\n",
        "# data visualization\n",
        "import matplotlib.pyplot as plt\n",
        "%matplotlib inline\n",
        "\n",
        "# linear algebra\n",
        "import numpy as np\n",
        "\n",
        "# web crawling\n",
        "from bs4 import BeautifulSoup\n",
        "import requests\n",
        "\n",
        "# time series analysis\n",
        "#!pip install 'statsmodels==0.11.1'\n",
        "import statsmodels\n",
        "print(statsmodels.__version__)\n",
        "from statsmodels.tsa.arima.model import ARIMA\n",
        "from sklearn.metrics import mean_squared_error\n",
        "\n",
        "# notebook settings\n",
        "import warnings\n",
        "warnings.filterwarnings(\"ignore\")"
      ],
      "execution_count": 1,
      "outputs": [
        {
          "output_type": "stream",
          "text": [
            "0.11.1\n"
          ],
          "name": "stdout"
        }
      ]
    },
    {
      "cell_type": "markdown",
      "metadata": {
        "id": "K0_pDYvzmsx2"
      },
      "source": [
        "# Crawl Professor citation information"
      ]
    },
    {
      "cell_type": "code",
      "metadata": {
        "colab": {
          "base_uri": "https://localhost:8080/",
          "height": 658
        },
        "id": "ihuCcAUAmYDS",
        "outputId": "05fe1635-3ffa-4348-c810-947aecf427c4"
      },
      "source": [
        "profileCode = 'citations?hl=en&user=dqwjm-0AAAAJ'\n",
        "gscProfile = requests.get(f\"https://scholar.google.com/{profileCode}\")\n",
        "\n",
        "chickenSoup = BeautifulSoup(gscProfile.text, 'html.parser')\n",
        "\n",
        "create_df = pd.DataFrame()\n",
        "create_df['year'] = [int(year.text) for year in chickenSoup.find_all('span', {'class': 'gsc_g_t'})]\n",
        "create_df['Citation'] = [int(year.text) for year in chickenSoup.find_all('span', {'class': 'gsc_g_al'})]\n",
        "create_df"
      ],
      "execution_count": 2,
      "outputs": [
        {
          "output_type": "execute_result",
          "data": {
            "text/html": [
              "<div>\n",
              "<style scoped>\n",
              "    .dataframe tbody tr th:only-of-type {\n",
              "        vertical-align: middle;\n",
              "    }\n",
              "\n",
              "    .dataframe tbody tr th {\n",
              "        vertical-align: top;\n",
              "    }\n",
              "\n",
              "    .dataframe thead th {\n",
              "        text-align: right;\n",
              "    }\n",
              "</style>\n",
              "<table border=\"1\" class=\"dataframe\">\n",
              "  <thead>\n",
              "    <tr style=\"text-align: right;\">\n",
              "      <th></th>\n",
              "      <th>year</th>\n",
              "      <th>Citation</th>\n",
              "    </tr>\n",
              "  </thead>\n",
              "  <tbody>\n",
              "    <tr>\n",
              "      <th>0</th>\n",
              "      <td>2003</td>\n",
              "      <td>15</td>\n",
              "    </tr>\n",
              "    <tr>\n",
              "      <th>1</th>\n",
              "      <td>2004</td>\n",
              "      <td>34</td>\n",
              "    </tr>\n",
              "    <tr>\n",
              "      <th>2</th>\n",
              "      <td>2005</td>\n",
              "      <td>17</td>\n",
              "    </tr>\n",
              "    <tr>\n",
              "      <th>3</th>\n",
              "      <td>2006</td>\n",
              "      <td>11</td>\n",
              "    </tr>\n",
              "    <tr>\n",
              "      <th>4</th>\n",
              "      <td>2007</td>\n",
              "      <td>33</td>\n",
              "    </tr>\n",
              "    <tr>\n",
              "      <th>5</th>\n",
              "      <td>2008</td>\n",
              "      <td>40</td>\n",
              "    </tr>\n",
              "    <tr>\n",
              "      <th>6</th>\n",
              "      <td>2009</td>\n",
              "      <td>57</td>\n",
              "    </tr>\n",
              "    <tr>\n",
              "      <th>7</th>\n",
              "      <td>2010</td>\n",
              "      <td>68</td>\n",
              "    </tr>\n",
              "    <tr>\n",
              "      <th>8</th>\n",
              "      <td>2011</td>\n",
              "      <td>106</td>\n",
              "    </tr>\n",
              "    <tr>\n",
              "      <th>9</th>\n",
              "      <td>2012</td>\n",
              "      <td>131</td>\n",
              "    </tr>\n",
              "    <tr>\n",
              "      <th>10</th>\n",
              "      <td>2013</td>\n",
              "      <td>170</td>\n",
              "    </tr>\n",
              "    <tr>\n",
              "      <th>11</th>\n",
              "      <td>2014</td>\n",
              "      <td>251</td>\n",
              "    </tr>\n",
              "    <tr>\n",
              "      <th>12</th>\n",
              "      <td>2015</td>\n",
              "      <td>290</td>\n",
              "    </tr>\n",
              "    <tr>\n",
              "      <th>13</th>\n",
              "      <td>2016</td>\n",
              "      <td>340</td>\n",
              "    </tr>\n",
              "    <tr>\n",
              "      <th>14</th>\n",
              "      <td>2017</td>\n",
              "      <td>384</td>\n",
              "    </tr>\n",
              "    <tr>\n",
              "      <th>15</th>\n",
              "      <td>2018</td>\n",
              "      <td>454</td>\n",
              "    </tr>\n",
              "    <tr>\n",
              "      <th>16</th>\n",
              "      <td>2019</td>\n",
              "      <td>577</td>\n",
              "    </tr>\n",
              "    <tr>\n",
              "      <th>17</th>\n",
              "      <td>2020</td>\n",
              "      <td>854</td>\n",
              "    </tr>\n",
              "    <tr>\n",
              "      <th>18</th>\n",
              "      <td>2021</td>\n",
              "      <td>403</td>\n",
              "    </tr>\n",
              "  </tbody>\n",
              "</table>\n",
              "</div>"
            ],
            "text/plain": [
              "    year  Citation\n",
              "0   2003        15\n",
              "1   2004        34\n",
              "2   2005        17\n",
              "3   2006        11\n",
              "4   2007        33\n",
              "5   2008        40\n",
              "6   2009        57\n",
              "7   2010        68\n",
              "8   2011       106\n",
              "9   2012       131\n",
              "10  2013       170\n",
              "11  2014       251\n",
              "12  2015       290\n",
              "13  2016       340\n",
              "14  2017       384\n",
              "15  2018       454\n",
              "16  2019       577\n",
              "17  2020       854\n",
              "18  2021       403"
            ]
          },
          "metadata": {
            "tags": []
          },
          "execution_count": 2
        }
      ]
    },
    {
      "cell_type": "markdown",
      "metadata": {
        "id": "VzOt_4MEm4nk"
      },
      "source": [
        "# ARIMA model to predict 2018 to 2020 citations"
      ]
    },
    {
      "cell_type": "code",
      "metadata": {
        "colab": {
          "base_uri": "https://localhost:8080/"
        },
        "id": "sYs9y7Y0mka1",
        "outputId": "b07f59e1-54df-454a-e10f-c76a3a6ca933"
      },
      "source": [
        "# split train and test data\n",
        "train = create_df.loc[create_df['year'] <= 2017, 'Citation'].values\n",
        "test = create_df.loc[\n",
        "                     (create_df['year'].between(2018, 2020, inclusive=True)) , \n",
        "                     'Citation'\n",
        "                     ].values\n",
        "\n",
        "# train ARIMA model\n",
        "arimaModel = ARIMA(train, order=(1, 1, 1))\n",
        "arimaModel_fit = arimaModel.fit()\n",
        "print(arimaModel_fit.summary())"
      ],
      "execution_count": 3,
      "outputs": [
        {
          "output_type": "stream",
          "text": [
            "                               SARIMAX Results                                \n",
            "==============================================================================\n",
            "Dep. Variable:                      y   No. Observations:                   15\n",
            "Model:                 ARIMA(1, 1, 1)   Log Likelihood                 -62.615\n",
            "Date:                Sat, 26 Jun 2021   AIC                            131.230\n",
            "Time:                        04:49:49   BIC                            133.148\n",
            "Sample:                             0   HQIC                           131.053\n",
            "                                 - 15                                         \n",
            "Covariance Type:                  opg                                         \n",
            "==============================================================================\n",
            "                 coef    std err          z      P>|z|      [0.025      0.975]\n",
            "------------------------------------------------------------------------------\n",
            "ar.L1          0.9477      0.261      3.626      0.000       0.435       1.460\n",
            "ma.L1         -0.4796      0.724     -0.663      0.508      -1.898       0.939\n",
            "sigma2       408.3146    163.656      2.495      0.013      87.555     729.074\n",
            "===================================================================================\n",
            "Ljung-Box (Q):                       12.09   Jarque-Bera (JB):                 0.66\n",
            "Prob(Q):                              0.52   Prob(JB):                         0.72\n",
            "Heteroskedasticity (H):               1.87   Skew:                             0.44\n",
            "Prob(H) (two-sided):                  0.51   Kurtosis:                         3.61\n",
            "===================================================================================\n",
            "\n",
            "Warnings:\n",
            "[1] Covariance matrix calculated using the outer product of gradients (complex-step).\n"
          ],
          "name": "stdout"
        }
      ]
    },
    {
      "cell_type": "markdown",
      "metadata": {
        "id": "mZRl9cu4neA4"
      },
      "source": [
        "### Predict citations and compute RMSE"
      ]
    },
    {
      "cell_type": "code",
      "metadata": {
        "colab": {
          "base_uri": "https://localhost:8080/"
        },
        "id": "NKMEfXXVnSuz",
        "outputId": "1b49d851-f34d-4441-eac3-4d06a5ff490f"
      },
      "source": [
        "history = [x for x in train]\n",
        "predictions = []\n",
        "confidence_interval = []\n",
        "# walk-forward validation\n",
        "for t, y in zip(range(len(test)), [2018, 2019, 2020]):\n",
        "  model = ARIMA(history, order=(1, 1, 1))\n",
        "  model_fit = model.fit()\n",
        "  output = model_fit.forecast()\n",
        "  yhat = output[0]\n",
        "  predictions.append(yhat)\n",
        "  obs = test[t]\n",
        "  history.append(obs)\n",
        "  print(f'Year : {y}')\n",
        "  print('predicted=%f, true=%f' % (yhat, obs))\n",
        "  ci = model_fit.get_forecast().conf_int(0.05) \n",
        "  confidence_interval.append(ci[0]) \n",
        "  print('95%% Interval: %.3f to %.3f' % (ci[0,0], ci[0,1]))\n",
        "  print('\\n')"
      ],
      "execution_count": 4,
      "outputs": [
        {
          "output_type": "stream",
          "text": [
            "Year : 2018\n",
            "predicted=425.742576, true=454.000000\n",
            "95% Interval: 386.138 to 465.347\n",
            "\n",
            "\n",
            "Year : 2019\n",
            "predicted=508.188331, true=577.000000\n",
            "95% Interval: 467.927 to 548.450\n",
            "\n",
            "\n",
            "Year : 2020\n",
            "predicted=671.913803, true=854.000000\n",
            "95% Interval: 621.320 to 722.508\n",
            "\n",
            "\n"
          ],
          "name": "stdout"
        }
      ]
    },
    {
      "cell_type": "code",
      "metadata": {
        "colab": {
          "base_uri": "https://localhost:8080/"
        },
        "id": "-WcVSUkxn_l7",
        "outputId": "d7315f4e-c343-468a-d8f2-de03b0043899"
      },
      "source": [
        "# rmse\n",
        "rmse = mean_squared_error(test, predictions, squared=False)\n",
        "print('Performance (Test) RMSE: %.3f' % rmse)"
      ],
      "execution_count": 5,
      "outputs": [
        {
          "output_type": "stream",
          "text": [
            "Performance (Test) RMSE: 113.562\n"
          ],
          "name": "stdout"
        }
      ]
    },
    {
      "cell_type": "code",
      "metadata": {
        "colab": {
          "base_uri": "https://localhost:8080/",
          "height": 441
        },
        "id": "ernK8VAZoQAC",
        "outputId": "fbd93af3-4e74-4d70-c5ea-44f80cbee86f"
      },
      "source": [
        "test_years = [2018, 2019, 2020]\n",
        "with plt.style.context('fivethirtyeight'):\n",
        "  plt.figure(figsize=(15, 6))\n",
        "  plt.plot(create_df['year'][:-1], create_df['Citation'][:-1], 'b', label='Training Data')\n",
        "  plt.plot(test_years, test, 'g', label='Testing truth')\n",
        "  plt.plot(test_years, predictions, 'r--', label='Predictions')\n",
        "  plt.fill_between(test_years,\n",
        "                  np.array(confidence_interval)[:,0], np.array(confidence_interval)[:,1],\n",
        "                  alpha=0.1, color='r')\n",
        "  plt.xticks(np.arange(2003, 2021))\n",
        "  plt.yticks(np.arange(0, 1001, 100))\n",
        "  plt.xlabel('Year')\n",
        "  plt.ylabel('Number of Citations')\n",
        "  plt.title('Citations true values vs prediction using ARIMA for year 2018 to 2020')\n",
        "  plt.legend()"
      ],
      "execution_count": 6,
      "outputs": [
        {
          "output_type": "display_data",
          "data": {
            "image/png": "[encoded data removed]",
            "text/plain": [
              "<Figure size 1080x432 with 1 Axes>"
            ]
          },
          "metadata": {
            "tags": []
          }
        }
      ]
    },
    {
      "cell_type": "markdown",
      "metadata": {
        "id": "Z792JQ21olEE"
      },
      "source": [
        "# Conduct the Grid Search with paramter selection and then predict the 2021 and 2022"
      ]
    },
    {
      "cell_type": "markdown",
      "metadata": {
        "id": "Cv7HLEfjo1RK"
      },
      "source": [
        "### Grid Search"
      ]
    },
    {
      "cell_type": "code",
      "metadata": {
        "id": "Nv9yadkRo32-"
      },
      "source": [
        "p = list(range(1,3))\n",
        "q = list(range(1,3))\n",
        "d = list(range(1,3))\n",
        "RMSE = []\n",
        "PARAMETER = []\n",
        "predictions = []\n",
        "# walk-forward validation\n",
        "for i1 in p:\n",
        "  for i2 in q:\n",
        "    for i3 in d:\n",
        "      for t in range(len(test)):\n",
        "        model = ARIMA(history, order=(i1,i3,i2))\n",
        "        model_fit = model.fit()\n",
        "        output = model_fit.forecast()\n",
        "        yhat = output[0]\n",
        "        predictions.append(yhat)\n",
        "        obs = test[t]\n",
        "        history.append(obs)\n",
        "      rmse = mean_squared_error(test, predictions, squared=False)\n",
        "      history = [x for x in train]\n",
        "      predictions = list()  \n",
        "      RMSE.append(rmse)\n",
        "      PARAMETER.append(f'p={i1}, d={i3}, q={i2}')"
      ],
      "execution_count": 7,
      "outputs": []
    },
    {
      "cell_type": "code",
      "metadata": {
        "colab": {
          "base_uri": "https://localhost:8080/",
          "height": 306
        },
        "id": "b0GGWYEZpBrB",
        "outputId": "0e052153-329e-4bdb-9923-b4d0f673a55e"
      },
      "source": [
        "Results = pd.DataFrame({'RMSE':RMSE,'Parameter':PARAMETER})\n",
        "Results"
      ],
      "execution_count": 8,
      "outputs": [
        {
          "output_type": "execute_result",
          "data": {
            "text/html": [
              "<div>\n",
              "<style scoped>\n",
              "    .dataframe tbody tr th:only-of-type {\n",
              "        vertical-align: middle;\n",
              "    }\n",
              "\n",
              "    .dataframe tbody tr th {\n",
              "        vertical-align: top;\n",
              "    }\n",
              "\n",
              "    .dataframe thead th {\n",
              "        text-align: right;\n",
              "    }\n",
              "</style>\n",
              "<table border=\"1\" class=\"dataframe\">\n",
              "  <thead>\n",
              "    <tr style=\"text-align: right;\">\n",
              "      <th></th>\n",
              "      <th>RMSE</th>\n",
              "      <th>Parameter</th>\n",
              "    </tr>\n",
              "  </thead>\n",
              "  <tbody>\n",
              "    <tr>\n",
              "      <th>0</th>\n",
              "      <td>449.100894</td>\n",
              "      <td>p=1, d=1, q=1</td>\n",
              "    </tr>\n",
              "    <tr>\n",
              "      <th>1</th>\n",
              "      <td>108.918749</td>\n",
              "      <td>p=1, d=2, q=1</td>\n",
              "    </tr>\n",
              "    <tr>\n",
              "      <th>2</th>\n",
              "      <td>135.980108</td>\n",
              "      <td>p=1, d=1, q=2</td>\n",
              "    </tr>\n",
              "    <tr>\n",
              "      <th>3</th>\n",
              "      <td>109.953540</td>\n",
              "      <td>p=1, d=2, q=2</td>\n",
              "    </tr>\n",
              "    <tr>\n",
              "      <th>4</th>\n",
              "      <td>105.555765</td>\n",
              "      <td>p=2, d=1, q=1</td>\n",
              "    </tr>\n",
              "    <tr>\n",
              "      <th>5</th>\n",
              "      <td>117.427055</td>\n",
              "      <td>p=2, d=2, q=1</td>\n",
              "    </tr>\n",
              "    <tr>\n",
              "      <th>6</th>\n",
              "      <td>114.695965</td>\n",
              "      <td>p=2, d=1, q=2</td>\n",
              "    </tr>\n",
              "    <tr>\n",
              "      <th>7</th>\n",
              "      <td>115.462290</td>\n",
              "      <td>p=2, d=2, q=2</td>\n",
              "    </tr>\n",
              "  </tbody>\n",
              "</table>\n",
              "</div>"
            ],
            "text/plain": [
              "         RMSE      Parameter\n",
              "0  449.100894  p=1, d=1, q=1\n",
              "1  108.918749  p=1, d=2, q=1\n",
              "2  135.980108  p=1, d=1, q=2\n",
              "3  109.953540  p=1, d=2, q=2\n",
              "4  105.555765  p=2, d=1, q=1\n",
              "5  117.427055  p=2, d=2, q=1\n",
              "6  114.695965  p=2, d=1, q=2\n",
              "7  115.462290  p=2, d=2, q=2"
            ]
          },
          "metadata": {
            "tags": []
          },
          "execution_count": 8
        }
      ]
    },
    {
      "cell_type": "code",
      "metadata": {
        "colab": {
          "base_uri": "https://localhost:8080/",
          "height": 82
        },
        "id": "QyGRyyxHpVCe",
        "outputId": "0877c41a-2a2d-47c8-ab8b-87c43f23c337"
      },
      "source": [
        "# best parameters\n",
        "Results[Results.RMSE == Results.RMSE.min()]"
      ],
      "execution_count": 9,
      "outputs": [
        {
          "output_type": "execute_result",
          "data": {
            "text/html": [
              "<div>\n",
              "<style scoped>\n",
              "    .dataframe tbody tr th:only-of-type {\n",
              "        vertical-align: middle;\n",
              "    }\n",
              "\n",
              "    .dataframe tbody tr th {\n",
              "        vertical-align: top;\n",
              "    }\n",
              "\n",
              "    .dataframe thead th {\n",
              "        text-align: right;\n",
              "    }\n",
              "</style>\n",
              "<table border=\"1\" class=\"dataframe\">\n",
              "  <thead>\n",
              "    <tr style=\"text-align: right;\">\n",
              "      <th></th>\n",
              "      <th>RMSE</th>\n",
              "      <th>Parameter</th>\n",
              "    </tr>\n",
              "  </thead>\n",
              "  <tbody>\n",
              "    <tr>\n",
              "      <th>4</th>\n",
              "      <td>105.555765</td>\n",
              "      <td>p=2, d=1, q=1</td>\n",
              "    </tr>\n",
              "  </tbody>\n",
              "</table>\n",
              "</div>"
            ],
            "text/plain": [
              "         RMSE      Parameter\n",
              "4  105.555765  p=2, d=1, q=1"
            ]
          },
          "metadata": {
            "tags": []
          },
          "execution_count": 9
        }
      ]
    },
    {
      "cell_type": "markdown",
      "metadata": {
        "id": "LRj5EjKSpcbM"
      },
      "source": [
        "### TRAIN With Best Parameter Set with data up to 2020 and Predict the 2021 and 2022"
      ]
    },
    {
      "cell_type": "code",
      "metadata": {
        "colab": {
          "base_uri": "https://localhost:8080/"
        },
        "id": "ynhiqtHLpZvS",
        "outputId": "11fd6f01-9dee-411b-c62d-a4695270adc4"
      },
      "source": [
        "train = create_df['Citation'].values[:-1]\n",
        "\n",
        "arimaModel = ARIMA(train, order=(2, 1, 1))\n",
        "arimaModel_fit = arimaModel.fit()\n",
        "print(arimaModel_fit.summary())"
      ],
      "execution_count": 10,
      "outputs": [
        {
          "output_type": "stream",
          "text": [
            "                               SARIMAX Results                                \n",
            "==============================================================================\n",
            "Dep. Variable:                      y   No. Observations:                   18\n",
            "Model:                 ARIMA(2, 1, 1)   Log Likelihood                 -89.841\n",
            "Date:                Sat, 26 Jun 2021   AIC                            187.682\n",
            "Time:                        04:49:51   BIC                            191.015\n",
            "Sample:                             0   HQIC                           188.013\n",
            "                                 - 18                                         \n",
            "Covariance Type:                  opg                                         \n",
            "==============================================================================\n",
            "                 coef    std err          z      P>|z|      [0.025      0.975]\n",
            "------------------------------------------------------------------------------\n",
            "ar.L1          1.5678      2.178      0.720      0.472      -2.700       5.836\n",
            "ar.L2         -0.6097      2.208     -0.276      0.782      -4.937       3.717\n",
            "ma.L1         -0.1960      2.181     -0.090      0.928      -4.470       4.078\n",
            "sigma2      1888.3239    938.535      2.012      0.044      48.830    3727.818\n",
            "===================================================================================\n",
            "Ljung-Box (Q):                       11.91   Jarque-Bera (JB):                 7.09\n",
            "Prob(Q):                              0.75   Prob(JB):                         0.03\n",
            "Heteroskedasticity (H):               7.77   Skew:                             1.07\n",
            "Prob(H) (two-sided):                  0.02   Kurtosis:                         5.32\n",
            "===================================================================================\n",
            "\n",
            "Warnings:\n",
            "[1] Covariance matrix calculated using the outer product of gradients (complex-step).\n"
          ],
          "name": "stdout"
        }
      ]
    },
    {
      "cell_type": "code",
      "metadata": {
        "colab": {
          "base_uri": "https://localhost:8080/"
        },
        "id": "8_dGPbVopg4x",
        "outputId": "5cba078f-a51c-4750-f7e2-e36e0bde0b8f"
      },
      "source": [
        "# predict citations for 2021 and 2022\n",
        "predicted = arimaModel_fit.get_forecast(2).predicted_mean\n",
        "ci = arimaModel_fit.get_forecast(2).conf_int(0.05)\n",
        "forecasted_years = [2021, 2022]\n",
        "for i, y in zip(predicted, forecasted_years):\n",
        "  print(f'Predicted value for year {y}: {round(i)}')"
      ],
      "execution_count": 11,
      "outputs": [
        {
          "output_type": "stream",
          "text": [
            "Predicted value for year 2021: 1187\n",
            "Predicted value for year 2022: 1539\n"
          ],
          "name": "stdout"
        }
      ]
    },
    {
      "cell_type": "code",
      "metadata": {
        "colab": {
          "base_uri": "https://localhost:8080/",
          "height": 558
        },
        "id": "KsmQw-eRpl3L",
        "outputId": "35df84c3-c6fe-47f1-c31c-cbcb27d0a6f4"
      },
      "source": [
        "# Plot the points and the prediction with its confidence interval\n",
        "x = list(create_df['year'][:-1])\n",
        "x.append(forecasted_years[0])\n",
        "y = list(create_df['Citation'][:-1])\n",
        "y.append(predicted[0])\n",
        "with plt.style.context('fivethirtyeight'):\n",
        "  plt.figure(figsize=(15, 8))\n",
        "  plt.plot(x, y, 'b-', label='Training data')\n",
        "  plt.plot(forecasted_years, predicted, 'r--', label='Predictions')\n",
        "  plt.fill_between(forecasted_years,\n",
        "                  np.array(ci)[:,0], np.array(ci)[:,1],\n",
        "                  alpha=0.1, color='r')\n",
        "  plt.xticks(np.arange(2003, 2023, 1))\n",
        "  plt.legend(loc='upper left')\n",
        "  plt.xlabel('Year')\n",
        "  plt.ylabel('Number of Citations')\n",
        "  plt.title('Predictions for year 2021 and 2022 with confidence intervals')"
      ],
      "execution_count": 12,
      "outputs": [
        {
          "output_type": "display_data",
          "data": {
            "image/png": "[encoded data removed]",
            "text/plain": [
              "<Figure size 1080x576 with 1 Axes>"
            ]
          },
          "metadata": {
            "tags": []
          }
        }
      ]
    }
  ]
}